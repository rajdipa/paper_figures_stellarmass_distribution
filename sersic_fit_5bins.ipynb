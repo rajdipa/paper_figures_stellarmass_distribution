{
 "cells": [
  {
   "cell_type": "code",
   "execution_count": 1,
   "metadata": {},
   "outputs": [],
   "source": [
    "%matplotlib inline\n",
    "%load_ext autoreload\n",
    "%autoreload 2\n",
    "\n",
    "import os\n",
    "import copy \n",
    "\n",
    "import numpy as np \n",
    "\n",
    "import multiprocessing\n",
    "from multiprocessing import Pool\n",
    "from contextlib import closing\n",
    "\n",
    "import matplotlib.pyplot as plt\n",
    "from matplotlib import rcParams\n",
    "from matplotlib.gridspec import GridSpec\n",
    "\n",
    "# Put the fit_sersic.py, parameters.py, and priors.py files in the same folder\n",
    "from fit_sersic import Sersic, display_model_1d\n",
    "from fit_sersic import config_params, prof_curvefit, update_params \n",
    "from fit_sersic import emcee_fit_one_sersic, ln_probability, visual_emcee\n",
    "\n",
    "# Install emcee sampling tool: `pip install --upgrade emcee`\n",
    "# To visualize the result, also need `corner`: `pip install --upgrade corner`\n",
    "rcParams.update({'font.size': 25})"
   ]
  },
  {
   "cell_type": "code",
   "execution_count": 2,
   "metadata": {},
   "outputs": [],
   "source": [
    "import corner"
   ]
  },
  {
   "cell_type": "code",
   "execution_count": 3,
   "metadata": {},
   "outputs": [],
   "source": [
    "from astropy.modeling import models, fitting\n",
    "import matplotlib.colors as colors\n",
    "import matplotlib.cm as cmx\n",
    "from pylab import figure, text, scatter, show\n",
    "from math import factorial\n",
    "import h5py"
   ]
  },
  {
   "cell_type": "code",
   "execution_count": 4,
   "metadata": {},
   "outputs": [],
   "source": [
    "all_profs = np.load('/Users/RAJ/2019_paper/paper_figures/fitting_files/summary_median.npy')\n",
    "\n",
    "rad_kpc = all_profs['rad_kpc']"
   ]
  },
  {
   "cell_type": "code",
   "execution_count": 5,
   "metadata": {},
   "outputs": [],
   "source": [
    "# n_walker should at least > n_dim ** 2\n",
    "n_walkers = 128\n",
    "n_burnin, n_samples = 2000, 500\n",
    "\n",
    "# You might want to take advantage of the multiple processors you have\n",
    "n_jobs = multiprocessing.cpu_count()"
   ]
  },
  {
   "cell_type": "code",
   "execution_count": 6,
   "metadata": {},
   "outputs": [
    {
     "name": "stdout",
     "output_type": "stream",
     "text": [
      "Best-fit Sersic parameters from curvefit: [ 2.99484465 86.48434739 11.08635741]\n",
      "Error of Sersic parameters from curvefit: [ 0.18310339 10.08012056  0.63526542]\n",
      "# Running burn-in step...\n"
     ]
    },
    {
     "name": "stderr",
     "output_type": "stream",
     "text": [
      "100%|██████████| 2000/2000 [04:46<00:00,  6.99it/s]\n"
     ]
    },
    {
     "name": "stdout",
     "output_type": "stream",
     "text": [
      "#------------------------------------------------------\n",
      "#  Mean acceptance fraction 0.022113281250000002\n",
      "#------------------------------------------------------\n",
      "#  Best ln(Probability):   -16.50295\n",
      "[ 2.98914678 86.36638955 11.09630365]\n",
      "#------------------------------------------------------\n",
      "#  Best parameters (mean):\n",
      "[ 3.03377343 88.10053325 11.02171619]\n",
      "#------------------------------------------------------\n",
      "(3.0203676871220337, 0.26820984317298, 0.24524672606196773)\n",
      "(87.7886993495043, 15.977599155740023, 12.257784418280352)\n",
      "(10.986360386452233, 0.7988057509432505, 0.8423482239256863)\n",
      "#------------------------------------------------------\n",
      "# Running final sampling step...\n"
     ]
    },
    {
     "name": "stderr",
     "output_type": "stream",
     "text": [
      "100%|██████████| 500/500 [03:46<00:00,  2.21it/s]\n"
     ]
    },
    {
     "name": "stdout",
     "output_type": "stream",
     "text": [
      "#------------------------------------------------------\n",
      "#  Mean acceptance fraction 0.387078125\n",
      "#------------------------------------------------------\n",
      "#  Best ln(Probability):   -16.50245\n",
      "[ 2.99344802 86.51617998 11.08445677]\n",
      "#------------------------------------------------------\n",
      "#  Best parameters (mean):\n",
      "[ 3.05509345 89.57774244 10.94175363]\n",
      "#------------------------------------------------------\n",
      "(3.033992368159616, 0.22695702825894815, 0.19248963107162886)\n",
      "(88.07699050529543, 12.679120642042633, 10.389421431719754)\n",
      "(10.971376166312282, 0.6803804914213192, 0.715292938884204)\n",
      "#------------------------------------------------------\n"
     ]
    }
   ],
   "source": [
    "with closing(Pool(processes=n_jobs)) as pool:\n",
    "    bin_1_ins, burnin = emcee_fit_one_sersic(\n",
    "        rad_kpc, all_profs['bin_1_prof_ins'], all_profs['bin_1_err_ins'], \n",
    "        pool=pool, n_walkers=n_walkers, n_burnin=n_burnin, n_samples=n_samples)\n",
    "    \n",
    "prof_samples_1_ins = [\n",
    "    Sersic(rad_kpc, pos[0], pos[1], pos[2]) for \n",
    "    pos in bin_1_ins['chains'][:, -20:, :].reshape([-1, 3])]"
   ]
  },
  {
   "cell_type": "code",
   "execution_count": 7,
   "metadata": {},
   "outputs": [
    {
     "name": "stdout",
     "output_type": "stream",
     "text": [
      "Best-fit Sersic parameters from curvefit: [ 3.39443574 46.56212111 12.89267083]\n",
      "Error of Sersic parameters from curvefit: [0.15103989 4.73698153 0.57663319]\n",
      "# Running burn-in step...\n"
     ]
    },
    {
     "name": "stderr",
     "output_type": "stream",
     "text": [
      "100%|██████████| 2000/2000 [05:04<00:00,  6.57it/s]\n"
     ]
    },
    {
     "name": "stdout",
     "output_type": "stream",
     "text": [
      "#------------------------------------------------------\n",
      "#  Mean acceptance fraction 0.030468750000000003\n",
      "#------------------------------------------------------\n",
      "#  Best ln(Probability):   -11.58090\n",
      "[ 3.39123739 46.84710589 12.87167117]\n",
      "#------------------------------------------------------\n",
      "#  Best parameters (mean):\n",
      "[ 3.44560488 48.18960297 12.79903983]\n",
      "#------------------------------------------------------\n",
      "(3.470544616288874, 0.28484598777711456, 0.2852669845153146)\n",
      "(48.48639342696352, 9.959181101426822, 8.774523983043856)\n",
      "(12.633808928063125, 1.1358896748356084, 1.0096212838545249)\n",
      "#------------------------------------------------------\n",
      "# Running final sampling step...\n"
     ]
    },
    {
     "name": "stderr",
     "output_type": "stream",
     "text": [
      "100%|██████████| 500/500 [04:12<00:00,  1.98it/s]\n"
     ]
    },
    {
     "name": "stdout",
     "output_type": "stream",
     "text": [
      "#------------------------------------------------------\n",
      "#  Mean acceptance fraction 0.35492187499999994\n",
      "#------------------------------------------------------\n",
      "#  Best ln(Probability):   -11.57920\n",
      "[ 3.40669007 46.96672054 12.84134623]\n",
      "#------------------------------------------------------\n",
      "#  Best parameters (mean):\n",
      "[ 3.46606297 49.45444299 12.6657464 ]\n",
      "#------------------------------------------------------\n",
      "(3.4538279392640843, 0.2841367242348425, 0.26716434740484507)\n",
      "(48.62821704508841, 9.522448910458372, 8.247934632030848)\n",
      "(12.641254594556164, 1.0668265214093946, 0.9622041130366341)\n",
      "#------------------------------------------------------\n"
     ]
    }
   ],
   "source": [
    "with closing(Pool(processes=n_jobs)) as pool:\n",
    "    bin_2_ins, burnin = emcee_fit_one_sersic(\n",
    "        rad_kpc, all_profs['bin_2_prof_ins'], all_profs['bin_2_err_ins'], \n",
    "        pool=pool, n_walkers=n_walkers, n_burnin=n_burnin, n_samples=n_samples)\n",
    "    \n",
    "prof_samples_2_ins = [\n",
    "    Sersic(rad_kpc, pos[0], pos[1], pos[2]) for \n",
    "    pos in bin_2_ins['chains'][:, -20:, :].reshape([-1, 3])]"
   ]
  },
  {
   "cell_type": "code",
   "execution_count": 8,
   "metadata": {},
   "outputs": [
    {
     "name": "stdout",
     "output_type": "stream",
     "text": [
      "Best-fit Sersic parameters from curvefit: [ 4.31595109 35.64461093 13.44426098]\n",
      "Error of Sersic parameters from curvefit: [0.41504821 8.26185962 1.37503531]\n",
      "# Running burn-in step...\n"
     ]
    },
    {
     "name": "stderr",
     "output_type": "stream",
     "text": [
      "100%|██████████| 2000/2000 [04:52<00:00,  6.83it/s]\n"
     ]
    },
    {
     "name": "stdout",
     "output_type": "stream",
     "text": [
      "#------------------------------------------------------\n",
      "#  Mean acceptance fraction 0.017796875000000004\n",
      "#------------------------------------------------------\n",
      "#  Best ln(Probability):   -16.01682\n",
      "[ 4.35081412 35.89670465 13.38708113]\n",
      "#------------------------------------------------------\n",
      "#  Best parameters (mean):\n",
      "[ 4.57754596 41.40654105 12.90250421]\n",
      "#------------------------------------------------------\n",
      "(4.476976594354042, 0.7205889915236066, 0.577307652761252)\n",
      "(39.41859557322333, 15.326425320467699, 11.283666194935364)\n",
      "(12.81206989247642, 2.0552780411836657, 1.7173316215001062)\n",
      "#------------------------------------------------------\n",
      "# Running final sampling step...\n"
     ]
    },
    {
     "name": "stderr",
     "output_type": "stream",
     "text": [
      "100%|██████████| 500/500 [04:26<00:00,  1.88it/s]\n"
     ]
    },
    {
     "name": "stdout",
     "output_type": "stream",
     "text": [
      "#------------------------------------------------------\n",
      "#  Mean acceptance fraction 0.28817187499999997\n",
      "#------------------------------------------------------\n",
      "#  Best ln(Probability):   -16.01529\n",
      "[ 4.35130903 36.23600113 13.3364495 ]\n",
      "#------------------------------------------------------\n",
      "#  Best parameters (mean):\n",
      "[ 4.51001265 40.37196278 13.06848917]\n",
      "#------------------------------------------------------\n",
      "(4.4806297425690556, 0.6025907405692159, 0.5191507788219223)\n",
      "(38.34791558606792, 12.752874916651542, 9.646076541739752)\n",
      "(12.990948811586856, 1.7491955384842939, 1.6189092453046978)\n",
      "#------------------------------------------------------\n"
     ]
    }
   ],
   "source": [
    "with closing(Pool(processes=n_jobs)) as pool:\n",
    "    bin_3_ins, burnin = emcee_fit_one_sersic(\n",
    "        rad_kpc, all_profs['bin_3_prof_ins'], all_profs['bin_3_err_ins'], \n",
    "        pool=pool, n_walkers=n_walkers, n_burnin=n_burnin, n_samples=n_samples)\n",
    "    \n",
    "prof_samples_3_ins = [\n",
    "    Sersic(rad_kpc, pos[0], pos[1], pos[2]) for \n",
    "    pos in bin_3_ins['chains'][:, -20:, :].reshape([-1, 3])]"
   ]
  },
  {
   "cell_type": "code",
   "execution_count": null,
   "metadata": {},
   "outputs": [],
   "source": []
  },
  {
   "cell_type": "code",
   "execution_count": 9,
   "metadata": {},
   "outputs": [
    {
     "name": "stdout",
     "output_type": "stream",
     "text": [
      "Best-fit Sersic parameters from curvefit: [ 3.08502258 19.82575701 17.89288221]\n",
      "Error of Sersic parameters from curvefit: [0.16728386 1.11509847 0.50890092]\n",
      "# Running burn-in step...\n"
     ]
    },
    {
     "name": "stderr",
     "output_type": "stream",
     "text": [
      "100%|██████████| 2000/2000 [09:28<00:00,  3.52it/s]\n"
     ]
    },
    {
     "name": "stdout",
     "output_type": "stream",
     "text": [
      "#------------------------------------------------------\n",
      "#  Mean acceptance fraction 0.16408984375000002\n",
      "#------------------------------------------------------\n",
      "#  Best ln(Probability):    -9.73932\n",
      "[ 3.09170245 19.81786419 17.88796679]\n",
      "#------------------------------------------------------\n",
      "#  Best parameters (mean):\n",
      "[ 3.17243887 20.10544843 17.7523374 ]\n",
      "#------------------------------------------------------\n",
      "(3.152519693347226, 0.30378546076705426, 0.27200093706865935)\n",
      "(20.028490261705706, 2.0836649349831013, 1.7845907418623526)\n",
      "(17.750826303658954, 0.8492140468672424, 0.8674258656430212)\n",
      "#------------------------------------------------------\n",
      "# Running final sampling step...\n"
     ]
    },
    {
     "name": "stderr",
     "output_type": "stream",
     "text": [
      "100%|██████████| 500/500 [03:12<00:00,  2.60it/s]\n"
     ]
    },
    {
     "name": "stdout",
     "output_type": "stream",
     "text": [
      "#------------------------------------------------------\n",
      "#  Mean acceptance fraction 0.39617187500000006\n",
      "#------------------------------------------------------\n",
      "#  Best ln(Probability):    -9.74086\n",
      "[ 3.07347021 19.7430707  17.92804673]\n",
      "#------------------------------------------------------\n",
      "#  Best parameters (mean):\n",
      "[ 3.14159342 20.03516184 17.80998769]\n",
      "#------------------------------------------------------\n",
      "(3.144587433733442, 0.3335834268771056, 0.28238418599339266)\n",
      "(20.030680610265414, 2.181310159368607, 1.9014062365610158)\n",
      "(17.75257901946792, 0.9095182438132348, 0.9123526102938904)\n",
      "#------------------------------------------------------\n"
     ]
    }
   ],
   "source": [
    "with closing(Pool(processes=n_jobs)) as pool:\n",
    "    bin_4_ins, burnin = emcee_fit_one_sersic(\n",
    "        rad_kpc, all_profs['bin_4_prof_ins'], all_profs['bin_4_err_ins'], \n",
    "        pool=pool, n_walkers=n_walkers, n_burnin=n_burnin, n_samples=n_samples)\n",
    "    \n",
    "prof_samples_4_ins = [\n",
    "    Sersic(rad_kpc, pos[0], pos[1], pos[2]) for \n",
    "    pos in bin_4_ins['chains'][:, -20:, :].reshape([-1, 3])]"
   ]
  },
  {
   "cell_type": "code",
   "execution_count": 10,
   "metadata": {},
   "outputs": [
    {
     "name": "stdout",
     "output_type": "stream",
     "text": [
      "Best-fit Sersic parameters from curvefit: [ 6.08366667 22.60344327 15.25497074]\n",
      "Error of Sersic parameters from curvefit: [0.63763536 3.59573986 1.18573656]\n",
      "# Running burn-in step...\n"
     ]
    },
    {
     "name": "stderr",
     "output_type": "stream",
     "text": [
      "100%|██████████| 2000/2000 [04:40<00:00,  7.14it/s]\n"
     ]
    },
    {
     "name": "stdout",
     "output_type": "stream",
     "text": [
      "#------------------------------------------------------\n",
      "#  Mean acceptance fraction 0.03705859374999999\n",
      "#------------------------------------------------------\n",
      "#  Best ln(Probability):   -12.58428\n",
      "[ 6.15580221 23.367305   15.02971444]\n",
      "#------------------------------------------------------\n",
      "#  Best parameters (mean):\n",
      "[ 6.61081346 25.02691877 14.8602311 ]\n",
      "#------------------------------------------------------\n",
      "(6.618546339514602, 1.4629391447095657, 1.2933993715223586)\n",
      "(24.57444156034604, 8.822688168683474, 6.9121161566948395)\n",
      "(14.613390033811044, 2.340898411507702, 2.0572732648834986)\n",
      "#------------------------------------------------------\n",
      "# Running final sampling step...\n"
     ]
    },
    {
     "name": "stderr",
     "output_type": "stream",
     "text": [
      "100%|██████████| 500/500 [03:21<00:00,  2.48it/s]\n"
     ]
    },
    {
     "name": "stdout",
     "output_type": "stream",
     "text": [
      "#------------------------------------------------------\n",
      "#  Mean acceptance fraction 0.2991875\n",
      "#------------------------------------------------------\n",
      "#  Best ln(Probability):   -12.58205\n",
      "[ 6.05864446 22.13818874 15.40249166]\n",
      "#------------------------------------------------------\n",
      "#  Best parameters (mean):\n",
      "[ 6.67916483 25.24467031 14.75432752]\n",
      "#------------------------------------------------------\n",
      "(6.675261824284264, 1.4100553742862347, 1.2758678888913861)\n",
      "(24.68643649578121, 8.301705524535848, 6.520296948553607)\n",
      "(14.546615618369112, 2.29180864334789, 1.905437289332573)\n",
      "#------------------------------------------------------\n"
     ]
    }
   ],
   "source": [
    "with closing(Pool(processes=n_jobs)) as pool:\n",
    "    bin_5_ins, burnin = emcee_fit_one_sersic(\n",
    "        rad_kpc, all_profs['bin_5_prof_ins'], all_profs['bin_5_err_ins'], \n",
    "        pool=pool, n_walkers=n_walkers, n_burnin=n_burnin, n_samples=n_samples)\n",
    "    \n",
    "prof_samples_5_ins = [\n",
    "    Sersic(rad_kpc, pos[0], pos[1], pos[2]) for \n",
    "    pos in bin_5_ins['chains'][:, -20:, :].reshape([-1, 3])]"
   ]
  },
  {
   "cell_type": "code",
   "execution_count": 11,
   "metadata": {},
   "outputs": [
    {
     "name": "stdout",
     "output_type": "stream",
     "text": [
      "Best-fit Sersic parameters from curvefit: [ 4.67200233 43.93138305 12.19812185]\n",
      "Error of Sersic parameters from curvefit: [0.18636987 3.32703979 0.44481813]\n",
      "# Running burn-in step...\n"
     ]
    },
    {
     "name": "stderr",
     "output_type": "stream",
     "text": [
      "100%|██████████| 2000/2000 [05:00<00:00,  6.65it/s]\n"
     ]
    },
    {
     "name": "stdout",
     "output_type": "stream",
     "text": [
      "#------------------------------------------------------\n",
      "#  Mean acceptance fraction 0.03950390625\n",
      "#------------------------------------------------------\n",
      "#  Best ln(Probability):    -9.78374\n",
      "[ 4.6438342  43.37361369 12.27455785]\n",
      "#------------------------------------------------------\n",
      "#  Best parameters (mean):\n",
      "[ 4.7442285  45.22048409 12.11794673]\n",
      "#------------------------------------------------------\n",
      "(4.749371587398578, 0.4216615875845866, 0.4070654040968318)\n",
      "(45.27705052188177, 7.75108337373382, 7.506305736068725)\n",
      "(12.016733527216484, 1.0372002243061083, 0.8910734242486029)\n",
      "#------------------------------------------------------\n",
      "# Running final sampling step...\n"
     ]
    },
    {
     "name": "stderr",
     "output_type": "stream",
     "text": [
      "100%|██████████| 500/500 [03:24<00:00,  2.45it/s]\n"
     ]
    },
    {
     "name": "stdout",
     "output_type": "stream",
     "text": [
      "#------------------------------------------------------\n",
      "#  Mean acceptance fraction 0.349953125\n",
      "#------------------------------------------------------\n",
      "#  Best ln(Probability):    -9.78289\n",
      "[ 4.66690227 44.10288219 12.18283112]\n",
      "#------------------------------------------------------\n",
      "#  Best parameters (mean):\n",
      "[ 4.7492403  45.71183742 12.06570853]\n",
      "#------------------------------------------------------\n",
      "(4.757524755680002, 0.4050425417407464, 0.40580850774157806)\n",
      "(45.02984322971281, 7.79413265489476, 6.726819398147441)\n",
      "(12.034905312875097, 0.9833210921462427, 0.8766274374184189)\n",
      "#------------------------------------------------------\n"
     ]
    }
   ],
   "source": [
    "with closing(Pool(processes=n_jobs)) as pool:\n",
    "    bin_1_exs, burnin = emcee_fit_one_sersic(\n",
    "        rad_kpc, all_profs['bin_1_prof_exs'], all_profs['bin_1_err_exs'], \n",
    "        pool=pool, n_walkers=n_walkers, n_burnin=n_burnin, n_samples=n_samples)\n",
    "    \n",
    "prof_samples_1_exs = [\n",
    "    Sersic(rad_kpc, pos[0], pos[1], pos[2]) for \n",
    "    pos in bin_1_exs['chains'][:, -20:, :].reshape([-1, 3])]"
   ]
  },
  {
   "cell_type": "code",
   "execution_count": 12,
   "metadata": {},
   "outputs": [
    {
     "name": "stdout",
     "output_type": "stream",
     "text": [
      "Best-fit Sersic parameters from curvefit: [ 5.54267741 23.11312835 15.10800499]\n",
      "Error of Sersic parameters from curvefit: [0.20098758 1.12867966 0.36395959]\n",
      "# Running burn-in step...\n"
     ]
    },
    {
     "name": "stderr",
     "output_type": "stream",
     "text": [
      "100%|██████████| 2000/2000 [07:35<00:00,  4.39it/s]\n"
     ]
    },
    {
     "name": "stdout",
     "output_type": "stream",
     "text": [
      "#------------------------------------------------------\n",
      "#  Mean acceptance fraction 0.11285937500000001\n",
      "#------------------------------------------------------\n",
      "#  Best ln(Probability):    -7.74882\n",
      "[ 5.5670123  23.24699177 15.06231543]\n",
      "#------------------------------------------------------\n",
      "#  Best parameters (mean):\n",
      "[ 5.59267542 23.30455128 15.09836575]\n",
      "#------------------------------------------------------\n",
      "(5.602796938528545, 0.5092958296458292, 0.4735589569979197)\n",
      "(23.266068849526985, 2.913856434263643, 2.60944719970961)\n",
      "(15.039514541748716, 0.905175431445933, 0.8240705891909066)\n",
      "#------------------------------------------------------\n",
      "# Running final sampling step...\n"
     ]
    },
    {
     "name": "stderr",
     "output_type": "stream",
     "text": [
      "100%|██████████| 500/500 [03:17<00:00,  2.53it/s]\n"
     ]
    },
    {
     "name": "stdout",
     "output_type": "stream",
     "text": [
      "#------------------------------------------------------\n",
      "#  Mean acceptance fraction 0.3584062499999999\n",
      "#------------------------------------------------------\n",
      "#  Best ln(Probability):    -7.74831\n",
      "[ 5.54001078 23.14660527 15.0986792 ]\n",
      "#------------------------------------------------------\n",
      "#  Best parameters (mean):\n",
      "[ 5.63943823 23.37210222 15.06795825]\n",
      "#------------------------------------------------------\n",
      "(5.624102060500783, 0.5006301230280421, 0.4810989536460486)\n",
      "(23.31182308026648, 2.9846742769942196, 2.6910126941934465)\n",
      "(15.02151618099532, 0.9185574791304383, 0.8306559749202229)\n",
      "#------------------------------------------------------\n"
     ]
    }
   ],
   "source": [
    "with closing(Pool(processes=n_jobs)) as pool:\n",
    "    bin_2_exs, burnin = emcee_fit_one_sersic(\n",
    "        rad_kpc, all_profs['bin_2_prof_exs'], all_profs['bin_2_err_exs'], \n",
    "        pool=pool, n_walkers=n_walkers, n_burnin=n_burnin, n_samples=n_samples)\n",
    "    \n",
    "prof_samples_2_exs = [\n",
    "    Sersic(rad_kpc, pos[0], pos[1], pos[2]) for \n",
    "    pos in bin_2_exs['chains'][:, -20:, :].reshape([-1, 3])]"
   ]
  },
  {
   "cell_type": "code",
   "execution_count": 13,
   "metadata": {},
   "outputs": [
    {
     "name": "stdout",
     "output_type": "stream",
     "text": [
      "Best-fit Sersic parameters from curvefit: [ 4.46919846 28.28443813 14.51679157]\n",
      "Error of Sersic parameters from curvefit: [0.28512016 2.84032706 0.70377681]\n",
      "# Running burn-in step...\n"
     ]
    },
    {
     "name": "stderr",
     "output_type": "stream",
     "text": [
      "100%|██████████| 2000/2000 [06:14<00:00,  5.33it/s]\n"
     ]
    },
    {
     "name": "stdout",
     "output_type": "stream",
     "text": [
      "#------------------------------------------------------\n",
      "#  Mean acceptance fraction 0.051511718750000005\n",
      "#------------------------------------------------------\n",
      "#  Best ln(Probability):   -11.48473\n",
      "[ 4.46433381 28.40936701 14.49941282]\n",
      "#------------------------------------------------------\n",
      "#  Best parameters (mean):\n",
      "[ 4.67101674 30.35447555 14.15044567]\n",
      "#------------------------------------------------------\n",
      "(4.622008758523442, 0.5508049215958906, 0.5154638682228905)\n",
      "(29.67061835504694, 6.259058805853222, 5.097487342301704)\n",
      "(14.165104034682082, 1.3539856512889603, 1.2687756186825272)\n",
      "#------------------------------------------------------\n",
      "# Running final sampling step...\n"
     ]
    },
    {
     "name": "stderr",
     "output_type": "stream",
     "text": [
      "100%|██████████| 500/500 [03:44<00:00,  2.23it/s]\n"
     ]
    },
    {
     "name": "stdout",
     "output_type": "stream",
     "text": [
      "#------------------------------------------------------\n",
      "#  Mean acceptance fraction 0.332703125\n",
      "#------------------------------------------------------\n",
      "#  Best ln(Probability):   -11.48236\n",
      "[ 4.47097304 28.31648069 14.50675558]\n",
      "#------------------------------------------------------\n",
      "#  Best parameters (mean):\n",
      "[ 4.64965248 30.40663107 14.17015297]\n",
      "#------------------------------------------------------\n",
      "(4.630417756822498, 0.5589684006923319, 0.516295679956456)\n",
      "(29.530575861131773, 6.587518075354353, 4.98346869377578)\n",
      "(14.19893592478896, 1.3280449686967675, 1.3073086034712134)\n",
      "#------------------------------------------------------\n"
     ]
    }
   ],
   "source": [
    "with closing(Pool(processes=n_jobs)) as pool:\n",
    "    bin_3_exs, burnin = emcee_fit_one_sersic(\n",
    "        rad_kpc, all_profs['bin_3_prof_exs'], all_profs['bin_3_err_exs'], \n",
    "        pool=pool, n_walkers=n_walkers, n_burnin=n_burnin, n_samples=n_samples)\n",
    "    \n",
    "prof_samples_3_exs = [\n",
    "    Sersic(rad_kpc, pos[0], pos[1], pos[2]) for \n",
    "    pos in bin_3_exs['chains'][:, -20:, :].reshape([-1, 3])]"
   ]
  },
  {
   "cell_type": "code",
   "execution_count": 14,
   "metadata": {},
   "outputs": [
    {
     "name": "stdout",
     "output_type": "stream",
     "text": [
      "Best-fit Sersic parameters from curvefit: [ 5.41884363 14.61271617 18.49973168]\n",
      "Error of Sersic parameters from curvefit: [0.2421725  0.69997235 0.43485886]\n",
      "# Running burn-in step...\n"
     ]
    },
    {
     "name": "stderr",
     "output_type": "stream",
     "text": [
      "100%|██████████| 2000/2000 [09:10<00:00,  3.63it/s]\n"
     ]
    },
    {
     "name": "stdout",
     "output_type": "stream",
     "text": [
      "#------------------------------------------------------\n",
      "#  Mean acceptance fraction 0.18034765625\n",
      "#------------------------------------------------------\n",
      "#  Best ln(Probability):    -7.98223\n",
      "[ 5.42600847 14.64577425 18.48207547]\n",
      "#------------------------------------------------------\n",
      "#  Best parameters (mean):\n",
      "[ 5.53347121 14.85473655 18.38252696]\n",
      "#------------------------------------------------------\n",
      "(5.521374980824312, 0.5407583196914203, 0.48327444209040493)\n",
      "(14.786172278926168, 1.6599719960814578, 1.5334366932294738)\n",
      "(18.3579898886259, 1.0201399117747947, 0.9378639745784234)\n",
      "#------------------------------------------------------\n",
      "# Running final sampling step...\n"
     ]
    },
    {
     "name": "stderr",
     "output_type": "stream",
     "text": [
      "100%|██████████| 500/500 [03:26<00:00,  2.42it/s]\n"
     ]
    },
    {
     "name": "stdout",
     "output_type": "stream",
     "text": [
      "#------------------------------------------------------\n",
      "#  Mean acceptance fraction 0.371609375\n",
      "#------------------------------------------------------\n",
      "#  Best ln(Probability):    -7.98305\n",
      "[ 5.42108447 14.58301002 18.52051082]\n",
      "#------------------------------------------------------\n",
      "#  Best parameters (mean):\n",
      "[ 5.55673583 14.95257246 18.33473916]\n",
      "#------------------------------------------------------\n",
      "(5.535111912450022, 0.550235887064316, 0.5177794798517823)\n",
      "(14.780788886873644, 1.6776154494337767, 1.5124143338818907)\n",
      "(18.366575972273804, 1.0076675510213242, 0.9453199303642492)\n",
      "#------------------------------------------------------\n"
     ]
    }
   ],
   "source": [
    "with closing(Pool(processes=n_jobs)) as pool:\n",
    "    bin_4_exs, burnin = emcee_fit_one_sersic(\n",
    "        rad_kpc, all_profs['bin_4_prof_exs'], all_profs['bin_4_err_exs'], \n",
    "        pool=pool, n_walkers=n_walkers, n_burnin=n_burnin, n_samples=n_samples)\n",
    "    \n",
    "prof_samples_4_exs = [\n",
    "    Sersic(rad_kpc, pos[0], pos[1], pos[2]) for \n",
    "    pos in bin_4_exs['chains'][:, -20:, :].reshape([-1, 3])]"
   ]
  },
  {
   "cell_type": "code",
   "execution_count": 15,
   "metadata": {},
   "outputs": [
    {
     "name": "stdout",
     "output_type": "stream",
     "text": [
      "Best-fit Sersic parameters from curvefit: [ 5.93693435  7.26964459 24.27919756]\n",
      "Error of Sersic parameters from curvefit: [0.70058134 0.68957382 1.08308384]\n",
      "# Running burn-in step...\n"
     ]
    },
    {
     "name": "stderr",
     "output_type": "stream",
     "text": [
      "100%|██████████| 2000/2000 [07:40<00:00,  4.34it/s]\n"
     ]
    },
    {
     "name": "stdout",
     "output_type": "stream",
     "text": [
      "#------------------------------------------------------\n",
      "#  Mean acceptance fraction 0.11787109375000002\n",
      "#------------------------------------------------------\n",
      "#  Best ln(Probability):    -9.32025\n",
      "[ 6.89058264  4.88809826 29.20123901]\n",
      "#------------------------------------------------------\n",
      "#  Best parameters (mean):\n",
      "[ 6.6550093   6.41680214 25.9181508 ]\n",
      "#------------------------------------------------------\n",
      "(6.771989967810002, 1.6808120730805047, 1.6211485524541915)\n",
      "(6.096949375128578, 1.5483266316692452, 0.979507401693037)\n",
      "(26.257946913719888, 2.2935026926887154, 2.796082614095191)\n",
      "#------------------------------------------------------\n",
      "# Running final sampling step...\n"
     ]
    },
    {
     "name": "stderr",
     "output_type": "stream",
     "text": [
      "100%|██████████| 500/500 [03:46<00:00,  2.21it/s]\n"
     ]
    },
    {
     "name": "stdout",
     "output_type": "stream",
     "text": [
      "#------------------------------------------------------\n",
      "#  Mean acceptance fraction 0.3434531249999999\n",
      "#------------------------------------------------------\n",
      "#  Best ln(Probability):    -9.32069\n",
      "[ 6.85110106  4.92433189 29.10296751]\n",
      "#------------------------------------------------------\n",
      "#  Best parameters (mean):\n",
      "[ 6.72812524  6.47817531 25.7943228 ]\n",
      "#------------------------------------------------------\n",
      "(6.861515391173491, 1.5976458132322087, 1.6496660137345867)\n",
      "(6.063542917762418, 1.6480276325537284, 0.9876976709347094)\n",
      "(26.300998831978234, 2.3757230340437054, 2.942746979786481)\n",
      "#------------------------------------------------------\n"
     ]
    }
   ],
   "source": [
    "with closing(Pool(processes=n_jobs)) as pool:\n",
    "    bin_5_exs, burnin = emcee_fit_one_sersic(\n",
    "        rad_kpc, all_profs['bin_5_prof_exs'], all_profs['bin_5_err_exs'], \n",
    "        pool=pool, n_walkers=n_walkers, n_burnin=n_burnin, n_samples=n_samples)\n",
    "    \n",
    "prof_samples_5_exs = [\n",
    "    Sersic(rad_kpc, pos[0], pos[1], pos[2]) for \n",
    "    pos in bin_5_exs['chains'][:, -20:, :].reshape([-1, 3])]"
   ]
  },
  {
   "cell_type": "code",
   "execution_count": 21,
   "metadata": {},
   "outputs": [],
   "source": [
    "colors = plt.cm.plasma(np.linspace(0,1,10))"
   ]
  },
  {
   "cell_type": "code",
   "execution_count": 22,
   "metadata": {},
   "outputs": [
    {
     "data": {
      "image/png": "[encoded data removed]",
      "text/plain": [
       "<Figure size 396x396 with 4 Axes>"
      ]
     },
     "metadata": {
      "needs_background": "light"
     },
     "output_type": "display_data"
    }
   ],
   "source": [
    "# Only plot the Sersic index and Re\n",
    "bin1_ins_n_re = bin_1_ins['samples'][:, [0,2]]\n",
    "bin2_ins_n_re = bin_2_ins['samples'][:, [0,2]]\n",
    "bin3_ins_n_re = bin_3_ins['samples'][:, [0,2]]\n",
    "bin4_ins_n_re = bin_4_ins['samples'][:, [0,2]]\n",
    "bin5_ins_n_re = bin_5_ins['samples'][:, [0,2]]\n",
    "params_label = [r'$ \\rm n_{\\rm Ser}$', r'$ \\rm R_{\\rm e}$']\n",
    "\n",
    "all_samples = np.vstack([bin1_ins_n_re, bin2_ins_n_re,bin3_ins_n_re,bin4_ins_n_re,bin5_ins_n_re])\n",
    "\n",
    "# Get the min and max ranges for Sersic index and Re\n",
    "min_ranges = np.nanmin(all_samples, axis=0)\n",
    "max_ranges = np.nanmax(all_samples, axis=0)\n",
    "\n",
    "# X-Y ranges of the corner plot\n",
    "corner_ranges = [(min_ranges[0] * 0.9, max_ranges[0] * 1.2), \n",
    "                 (min_ranges[1] * 0.9, max_ranges[1] * 1.2)]\n",
    "\n",
    "\n",
    "\n",
    "# Also need to adjust the weight\n",
    "ns_hist_1, _ = np.histogram(bin1_ins_n_re[:, 0], bins=40) \n",
    "ns_hist_2, _ = np.histogram(bin2_ins_n_re[:, 0], bins=40) \n",
    "ns_hist_3, _ = np.histogram(bin3_ins_n_re[:, 0], bins=40) \n",
    "ns_hist_4, _ = np.histogram(bin4_ins_n_re[:, 0], bins=40) \n",
    "ns_hist_5, _ = np.histogram(bin5_ins_n_re[:, 0], bins=40) \n",
    "re_hist_1, _ = np.histogram(bin1_ins_n_re[:, 1], bins=40) \n",
    "re_hist_2, _ = np.histogram(bin2_ins_n_re[:, 1], bins=40)\n",
    "re_hist_3, _ = np.histogram(bin3_ins_n_re[:, 1], bins=40)\n",
    "re_hist_4, _ = np.histogram(bin4_ins_n_re[:, 1], bins=40)\n",
    "re_hist_5, _ = np.histogram(bin5_ins_n_re[:, 1], bins=40)\n",
    "\n",
    "hist_weight = np.sum([np.max(re_hist_1),np.max(re_hist_2),np.max(re_hist_3),np.max(re_hist_4),np.max(re_hist_5)])\n",
    "all_samples_ns = np.vstack([ns_hist_1,ns_hist_2,ns_hist_3,ns_hist_4,ns_hist_5])\n",
    "all_samples_re = np.vstack([re_hist_1,re_hist_2,re_hist_3,re_hist_4,re_hist_5])\n",
    "\n",
    "#setting the hist_weights\n",
    "max_n = np.max(all_samples_ns)\n",
    "max_re = np.max(all_samples_re)\n",
    "\n",
    "\n",
    "# Colors for in-situ and ex-situ\n",
    "ORG = plt.get_cmap('OrRd')\n",
    "\n",
    "\n",
    "\n",
    "fig_bin1 = corner.corner(\n",
    "        bin1_ins_n_re,\n",
    "        bins=40, color=colors[0],\n",
    "        range=corner_ranges,\n",
    "        smooth=2, labels=params_label,\n",
    "        label_kwargs={'fontsize': 21},\n",
    "        #quantiles=[0.16, 0.5, 0.84],\n",
    "        levels=[0.16, 0.50, 0.84],\n",
    "        plot_contours=True,\n",
    "        fill_contours=True,\n",
    "        show_titles=True,\n",
    "        title_fmt=None,\n",
    "        verbose = False,\n",
    "        title_kwargs={\"fontsize\": 21},\n",
    "        hist_kwargs={\"histtype\": 'step', \"alpha\": 1.0,\n",
    "                     \"edgecolor\": colors[0],\"linewidth\": 2, \"density\": False},\n",
    "        weights=np.ones(len(bin1_ins_n_re)) * 1.0,\n",
    "        use_math_text=True,\n",
    "        **{ 'ranges': corner_ranges, \n",
    "           'plot_datapoints': False}\n",
    "        )\n",
    "\n",
    "_ = corner.corner(\n",
    "        bin2_ins_n_re ,\n",
    "        fig=fig_bin1,\n",
    "        range=corner_ranges,\n",
    "        bins=40, color= colors[2],\n",
    "        smooth=2, labels=params_label,\n",
    "        label_kwargs={'fontsize': 21},\n",
    "        #quantiles=[0.16, 0.5, 0.84],\n",
    "        levels=[0.16, 0.50, 0.84],\n",
    "        plot_contours=True,\n",
    "        fill_contours=True,\n",
    "        show_titles=False,\n",
    "        hist_kwargs={\"histtype\": 'step', \"alpha\": 1.0,\n",
    "                     \"edgecolor\": colors[2],\"linewidth\": 2, \"density\": False},\n",
    "        weights=np.ones(len(bin1_ins_n_re)) * 1.01,\n",
    "        use_math_text=True,\n",
    "        **{ 'ranges': corner_ranges, \n",
    "           'plot_datapoints': False}\n",
    "        )\n",
    "\n",
    "_ = corner.corner(\n",
    "        bin3_ins_n_re ,\n",
    "        fig=fig_bin1,\n",
    "        range=corner_ranges,\n",
    "        bins=40, color= colors[4],\n",
    "        smooth=2, labels=params_label,\n",
    "        label_kwargs={'fontsize': 21},\n",
    "        #quantiles=[0.16, 0.5, 0.84],\n",
    "        levels=[0.16, 0.50, 0.84],\n",
    "        plot_contours=True,\n",
    "        fill_contours=True,\n",
    "        show_titles=False,\n",
    "        hist_kwargs={\"histtype\": 'step', \"alpha\": 1.0,\n",
    "                     \"edgecolor\": colors[4],\"linewidth\": 2, \"density\": False},\n",
    "        weights=np.ones(len(bin1_ins_n_re)) * 2.2,\n",
    "        use_math_text=True,\n",
    "        **{ 'ranges': corner_ranges, \n",
    "           'plot_datapoints': False}\n",
    "        )\n",
    "\n",
    "_ = corner.corner(\n",
    "        bin4_ins_n_re ,\n",
    "        fig=fig_bin1,\n",
    "        range=corner_ranges,\n",
    "        bins=40, color= colors[6],\n",
    "        smooth=2, labels=params_label,\n",
    "        label_kwargs={'fontsize': 21},\n",
    "        #quantiles=[0.16, 0.5, 0.84],\n",
    "        levels=[0.16, 0.50, 0.84],\n",
    "        plot_contours=True,\n",
    "        fill_contours=True,\n",
    "        show_titles=False,\n",
    "        hist_kwargs={\"histtype\": 'step', \"alpha\": 1.0,\n",
    "                     \"edgecolor\": colors[6],\"linewidth\": 2, \"density\": False},\n",
    "        weights=np.ones(len(bin1_ins_n_re))* 1.27 ,\n",
    "        use_math_text=True,\n",
    "        **{ 'ranges': corner_ranges, \n",
    "           'plot_datapoints': False}\n",
    "        )\n",
    "\n",
    "_ = corner.corner(\n",
    "        bin5_ins_n_re ,\n",
    "        fig=fig_bin1,\n",
    "        range=corner_ranges,\n",
    "        bins=40, color= colors[8],\n",
    "        smooth=2, labels=params_label,\n",
    "        label_kwargs={'fontsize': 21},\n",
    "        #quantiles=[0.16, 0.5, 0.84],\n",
    "        levels=[0.16, 0.50, 0.84],\n",
    "        plot_contours=True,\n",
    "        fill_contours=True,\n",
    "        show_titles=False,\n",
    "        hist_kwargs={\"histtype\": 'step', \"alpha\": 1.0, \n",
    "                     \"edgecolor\": colors[8], \"linewidth\": 2, \"density\": False},\n",
    "        weights=np.ones(len(bin1_ins_n_re)) *5 ,\n",
    "        use_math_text=True,\n",
    "        **{ 'ranges': corner_ranges, \n",
    "           'plot_datapoints': False}\n",
    "        )\n",
    "\n",
    "for ax in fig_bin1.get_axes():\n",
    "    ax.tick_params(axis='both', labelsize=16)\n",
    "\n",
    "\n",
    "for ax in fig_bin1.get_axes():\n",
    "    ax.tick_params(axis='both', labelsize=16)\n",
    "    text(1.3, 0.60,r'\\rm in situ',\n",
    "         horizontalalignment='center',\n",
    "         verticalalignment='center',\n",
    "         transform = ax.transAxes)\n",
    "    break\n",
    "\n",
    "\n",
    "\n"
   ]
  },
  {
   "cell_type": "code",
   "execution_count": 23,
   "metadata": {},
   "outputs": [
    {
     "data": {
      "image/png": "[encoded data removed]",
      "text/plain": [
       "<Figure size 396x396 with 4 Axes>"
      ]
     },
     "metadata": {
      "needs_background": "light"
     },
     "output_type": "display_data"
    }
   ],
   "source": [
    "# Only plot the Sersic index and Re\n",
    "bin1_exs_n_re = bin_1_exs['samples'][:, [0,2]]\n",
    "bin2_exs_n_re = bin_2_exs['samples'][:, [0,2]]\n",
    "bin3_exs_n_re = bin_3_exs['samples'][:, [0,2]]\n",
    "bin4_exs_n_re = bin_4_exs['samples'][:, [0,2]]\n",
    "bin5_exs_n_re = bin_5_exs['samples'][:, [0,2]]\n",
    "params_label = [r'$ \\rm n_{\\rm Ser}$', r'$ \\rm R_{\\rm e}$']\n",
    "\n",
    "all_samples = np.vstack([bin1_exs_n_re, bin2_exs_n_re,bin3_exs_n_re,bin4_exs_n_re,bin5_exs_n_re])\n",
    "\n",
    "# Get the min and max ranges for Sersic index and Re\n",
    "min_ranges = np.nanmin(all_samples, axis=0)\n",
    "max_ranges = np.nanmax(all_samples, axis=0)\n",
    "\n",
    "# X-Y ranges of the corner plot\n",
    "corner_ranges = [(min_ranges[0] * 0.9, max_ranges[0] * 1.2), \n",
    "                 (min_ranges[1] * 0.9, max_ranges[1] * 1.2)]\n",
    "\n",
    "\n",
    "\n",
    "\n",
    "# Also need to adjust the weight\n",
    "ns_hist_1, _ = np.histogram(bin1_exs_n_re[:, 0], bins=40) \n",
    "ns_hist_2, _ = np.histogram(bin2_exs_n_re[:, 0], bins=40) \n",
    "ns_hist_3, _ = np.histogram(bin3_exs_n_re[:, 0], bins=40) \n",
    "ns_hist_4, _ = np.histogram(bin4_exs_n_re[:, 0], bins=40) \n",
    "ns_hist_5, _ = np.histogram(bin5_exs_n_re[:, 0], bins=40) \n",
    "re_hist_1, _ = np.histogram(bin1_exs_n_re[:, 1], bins=40) \n",
    "re_hist_2, _ = np.histogram(bin2_exs_n_re[:, 1], bins=40)\n",
    "re_hist_3, _ = np.histogram(bin3_exs_n_re[:, 1], bins=40)\n",
    "re_hist_4, _ = np.histogram(bin4_exs_n_re[:, 1], bins=40)\n",
    "re_hist_5, _ = np.histogram(bin5_exs_n_re[:, 1], bins=40)\n",
    "\n",
    "#setting the hist_weights\n",
    "all_samples_ns = np.vstack([ns_hist_1,ns_hist_2,ns_hist_3,ns_hist_4,ns_hist_5])\n",
    "all_samples_re = np.vstack([re_hist_1,re_hist_2,re_hist_3,re_hist_4,re_hist_5])\n",
    "max_n = np.max(all_samples_ns)\n",
    "max_re = np.max(all_samples_re)\n",
    "\n",
    "hist_weight = np.sum([np.max(re_hist_1),np.max(re_hist_2),np.max(re_hist_3),np.max(re_hist_4),np.max(re_hist_5)])\n",
    "\n",
    "\n",
    "# Colors for in-situ and ex-situ\n",
    "ORG = plt.get_cmap('OrRd')\n",
    "\n",
    "\n",
    "\n",
    "fig_bin1 = corner.corner(\n",
    "        bin1_exs_n_re,\n",
    "        bins=40, color=colors[0],\n",
    "        range=corner_ranges,\n",
    "        smooth=2, labels=params_label,\n",
    "        label_kwargs={'fontsize': 21},\n",
    "        #quantiles=[0.16, 0.5, 0.84],\n",
    "        levels=[0.16, 0.50, 0.84],\n",
    "        plot_contours=True,\n",
    "        fill_contours=True,\n",
    "        show_titles=True,\n",
    "        title_fmt=None,\n",
    "        verbose = False,\n",
    "        title_kwargs={\"fontsize\": 21},\n",
    "        hist_kwargs={\"histtype\": 'step', \"alpha\": 1.0,\n",
    "                     \"edgecolor\": colors[0],\"linewidth\": 2, \"density\": False},\n",
    "        weights=np.ones(len(bin1_exs_n_re)) * 1.0,\n",
    "        use_math_text=True,\n",
    "        **{ 'ranges': corner_ranges, \n",
    "           'plot_datapoints': False}\n",
    "        )\n",
    "\n",
    "_ = corner.corner(\n",
    "        bin2_exs_n_re ,\n",
    "        fig=fig_bin1,\n",
    "        range=corner_ranges,\n",
    "        bins=40, color= colors[2],\n",
    "        smooth=2, labels=params_label,\n",
    "        label_kwargs={'fontsize': 21},\n",
    "        #quantiles=[0.16, 0.5, 0.84],\n",
    "        levels=[0.16, 0.50, 0.84],\n",
    "        plot_contours=True,\n",
    "        fill_contours=True,\n",
    "        show_titles=False,\n",
    "        hist_kwargs={\"histtype\": 'step', \"alpha\": 1.0,\n",
    "                     \"edgecolor\": colors[2],\"linewidth\": 2, \"density\": False},\n",
    "        weights=np.ones(len(bin1_exs_n_re)) * 1.01,\n",
    "        use_math_text=True,\n",
    "        **{ 'ranges': corner_ranges, \n",
    "           'plot_datapoints': False}\n",
    "        )\n",
    "\n",
    "_ = corner.corner(\n",
    "        bin3_exs_n_re ,\n",
    "        fig=fig_bin1,\n",
    "        range=corner_ranges,\n",
    "        bins=40, color= colors[4],\n",
    "        smooth=2, labels=params_label,\n",
    "        label_kwargs={'fontsize': 21},\n",
    "        #quantiles=[0.16, 0.5, 0.84],\n",
    "        levels=[0.16, 0.50, 0.84],\n",
    "        plot_contours=True,\n",
    "        fill_contours=True,\n",
    "        show_titles=False,\n",
    "        hist_kwargs={\"histtype\": 'step', \"alpha\": 1.0,\n",
    "                     \"edgecolor\": colors[4],\"linewidth\": 2, \"density\": False},\n",
    "        weights=np.ones(len(bin1_exs_n_re)) * 1.5,\n",
    "        use_math_text=True,\n",
    "        **{ 'ranges': corner_ranges, \n",
    "           'plot_datapoints': False}\n",
    "        )\n",
    "\n",
    "_ = corner.corner(\n",
    "        bin4_exs_n_re ,\n",
    "        fig=fig_bin1,\n",
    "        range=corner_ranges,\n",
    "        bins=40, color= colors[6],\n",
    "        smooth=2, labels=params_label,\n",
    "        label_kwargs={'fontsize': 21},\n",
    "        #quantiles=[0.16, 0.5, 0.84],\n",
    "        levels=[0.16, 0.50, 0.84],\n",
    "        plot_contours=True,\n",
    "        fill_contours=True,\n",
    "        show_titles=False,\n",
    "        hist_kwargs={\"histtype\": 'step', \"alpha\": 1.0,\n",
    "                     \"edgecolor\": colors[6],\"linewidth\": 2, \"density\": False},\n",
    "        weights=np.ones(len(bin1_exs_n_re))* 1.5 ,\n",
    "        use_math_text=True,\n",
    "        **{ 'ranges': corner_ranges, \n",
    "           'plot_datapoints': False}\n",
    "        )\n",
    "\n",
    "_ = corner.corner(\n",
    "        bin5_exs_n_re ,\n",
    "        fig=fig_bin1,\n",
    "        range=corner_ranges,\n",
    "        bins=40, color= colors[8],\n",
    "        smooth=2, labels=params_label,\n",
    "        label_kwargs={'fontsize': 21},\n",
    "        #quantiles=[0.16, 0.5, 0.84],\n",
    "        levels=[0.16, 0.50, 0.84],\n",
    "        plot_contours=True,\n",
    "        fill_contours=True,\n",
    "        show_titles=False,\n",
    "        hist_kwargs={\"histtype\": 'step', \"alpha\": 1.0, \n",
    "                     \"edgecolor\": colors[8], \"linewidth\": 2, \"density\": False},\n",
    "        weights=np.ones(len(bin1_exs_n_re)) *5 ,\n",
    "        use_math_text=True,\n",
    "        **{ 'ranges': corner_ranges, \n",
    "           'plot_datapoints': False}\n",
    "        )\n",
    "\n",
    "for ax in fig_bin1.get_axes():\n",
    "    ax.tick_params(axis='both', labelsize=16)\n",
    "\n",
    "\n",
    "for ax in fig_bin1.get_axes():\n",
    "    ax.tick_params(axis='both', labelsize=16)\n",
    "    text(1.3, 0.60,r'\\rm ex situ',\n",
    "         horizontalalignment='center',\n",
    "         verticalalignment='center',\n",
    "         transform = ax.transAxes)\n",
    "    break\n"
   ]
  },
  {
   "cell_type": "code",
   "execution_count": null,
   "metadata": {},
   "outputs": [],
   "source": []
  },
  {
   "cell_type": "code",
   "execution_count": 73,
   "metadata": {},
   "outputs": [
    {
     "data": {
      "text/plain": [
       "4304"
      ]
     },
     "execution_count": 73,
     "metadata": {},
     "output_type": "execute_result"
    }
   ],
   "source": [
    "max_re"
   ]
  },
  {
   "cell_type": "code",
   "execution_count": null,
   "metadata": {},
   "outputs": [],
   "source": []
  }
 ],
 "metadata": {
  "kernelspec": {
   "display_name": "Python 3",
   "language": "python",
   "name": "python3"
  },
  "language_info": {
   "codemirror_mode": {
    "name": "ipython",
    "version": 3
   },
   "file_extension": ".py",
   "mimetype": "text/x-python",
   "name": "python",
   "nbconvert_exporter": "python",
   "pygments_lexer": "ipython3",
   "version": "3.7.1"
  }
 },
 "nbformat": 4,
 "nbformat_minor": 2
}
